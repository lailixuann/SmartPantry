{
 "cells": [
  {
   "cell_type": "markdown",
   "id": "ede59041",
   "metadata": {},
   "source": [
    "# __Preprocessing Recipes Datasets__\n",
    "This notebook handles the preproccessing of recipe ingredient data. This is important for mapping ingredients to visual classes for object detection training and improving model accuracy. <br>\n",
    "<br>\n",
    "The recipes dataset is downloaded from Kaggle, [Food.com Recipes with Search Terms and Tags](https://www.kaggle.com/datasets/shuyangli94/foodcom-recipes-with-search-terms-and-tags/data). The dataset consists of recipes uploads on Food.com with 494963 entries and 10 columns which are: <br>\n",
    "1. **_id_**: Recipe ID\n",
    "2. **_name_**: Recipe Name\n",
    "3. **_description_**: Recipe Description\n",
    "4. **_ingredients_**: List of Normalized Recipe Ingredients\n",
    "5. **_ingredients_raw_str_**: List of Ingredients with Quantities\n",
    "6. **_serving_size_**: Serving size (with grams)\n",
    "7. **_servings_:** Number of Servings\n",
    "8. **_steps_**: Recipe Instructions in Ordered\n",
    "9. **_tags_**: User-assigned Tags\n",
    "10. **_search_terms_**: Search Terms on Food.com that Return the Recipe"
   ]
  },
  {
   "cell_type": "markdown",
   "id": "f097f672",
   "metadata": {},
   "source": [
    "### <b>Extracting Malaysian Cuisine: </b>\n",
    "Extracting the recipes that are only relevant to __Malaysian Cuisine__ by looking for the keyword **'Malaysian'** in the _'search_term'_ column. The results are saved into a csv file names _'filtered_recipes.csv'_. "
   ]
  },
  {
   "cell_type": "code",
   "execution_count": 27,
   "id": "d363adec",
   "metadata": {},
   "outputs": [],
   "source": [
    "import pandas as pd"
   ]
  },
  {
   "cell_type": "code",
   "execution_count": null,
   "id": "6cf0380a",
   "metadata": {},
   "outputs": [],
   "source": [
    "# Load your CSV file\n",
    "df = pd.read_csv(\"recipes.csv\")\n",
    "\n",
    "# Filter rows where the 'ingredients' column contains the keyword (case-insensitive)\n",
    "keyword = \"Malaysian\"\n",
    "filtered_df = df[df[\"search_terms\"].str.contains(keyword, case=False, na=False)]\n",
    "\n",
    "# Save to a new CSV\n",
    "filtered_df.to_csv(\"filtered_recipes.csv\", index=False)\n",
    "\n",
    "print(f\"Filtered recipes containing '{keyword}' saved to filtered_recipes.csv\")"
   ]
  },
  {
   "cell_type": "markdown",
   "id": "c7322d0e",
   "metadata": {},
   "source": [
    "### <b>Extracting Ingredients Frequency </b>\n",
    "Generating a frequency list of ingredients from the filtered Malaysian recipes to help with the guidance of ingredients selection process afterwards. "
   ]
  },
  {
   "cell_type": "code",
   "execution_count": null,
   "id": "785e8fed",
   "metadata": {},
   "outputs": [],
   "source": [
    "import ast\n",
    "from collections import Counter\n",
    "\n",
    "# Load the filtered CSV file\n",
    "filtered_df = pd.read_csv(\"filtered_recipes.csv\")\n",
    "\n",
    "# Counter to hold ingredient frequencies\n",
    "ingredient_counter = Counter()\n",
    "\n",
    "# Iterate through each row in the 'ingredients' column\n",
    "for item in filtered_df[\"ingredients\"]:\n",
    "    try:\n",
    "        # Convert string representation of list into actual list\n",
    "        ingredients = ast.literal_eval(item)\n",
    "\n",
    "        # Make sure it's a list before counting\n",
    "        if isinstance(ingredients, list):\n",
    "            # Normalize (e.g., lowercase and strip whitespace) and count\n",
    "            normalized = [ing.strip().lower() for ing in ingredients]\n",
    "            ingredient_counter.update(normalized)\n",
    "    except Exception as e:\n",
    "        print(f\"Skipping row due to error: {e}\")\n",
    "\n",
    "# Convert to DataFrame for viewing and saving\n",
    "ingredient_df = pd.DataFrame(ingredient_counter.items(), columns=[\"ingredient\", \"count\"])\n",
    "ingredient_df = ingredient_df.sort_values(by=\"count\", ascending=False)\n",
    "\n",
    "# Save to CSV\n",
    "ingredient_df.to_csv(\"ingredient_frequencies.csv\", index=False)\n",
    "\n",
    "print(\"Ingredient frequency counts saved to 'ingredient_frequencies.csv'\")"
   ]
  },
  {
   "cell_type": "markdown",
   "id": "b76ce28a",
   "metadata": {},
   "source": [
    "### <b> Selecting the Ingredients Manually </b>\n",
    "The full dataset includes many uncommon ingredients, therefore, the list of extracted ingredients is reviewed and selected manually. The commonly used and visually distinct items are selected to create a cleaned list of ket ingredients for object detection. <br>\n",
    "<br>"
   ]
  },
  {
   "cell_type": "code",
   "execution_count": null,
   "id": "f7eed907",
   "metadata": {},
   "outputs": [],
   "source": []
  }
 ],
 "metadata": {
  "kernelspec": {
   "display_name": "venv",
   "language": "python",
   "name": "python3"
  },
  "language_info": {
   "codemirror_mode": {
    "name": "ipython",
    "version": 3
   },
   "file_extension": ".py",
   "mimetype": "text/x-python",
   "name": "python",
   "nbconvert_exporter": "python",
   "pygments_lexer": "ipython3",
   "version": "3.13.3"
  }
 },
 "nbformat": 4,
 "nbformat_minor": 5
}
