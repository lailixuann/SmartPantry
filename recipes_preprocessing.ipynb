{
 "cells": [
  {
   "cell_type": "markdown",
   "id": "ede59041",
   "metadata": {},
   "source": [
    "# __Preprocessing Recipes Datasets__\n",
    "This notebook handles the preproccessing of recipe ingredient data. This is important for mapping ingredients to visual classes for object detection training and improving model accuracy. <br>\n",
    "<br>\n",
    "The recipes dataset is downloaded from Kaggle, [Food.com Recipes with Search Terms and Tags](https://www.kaggle.com/datasets/shuyangli94/foodcom-recipes-with-search-terms-and-tags/data). The dataset consists of recipes uploads on Food.com with 494963 entries and 10 columns which are: <br>\n",
    "1. **_id_**: Recipe ID\n",
    "2. **_name_**: Recipe Name\n",
    "3. **_description_**: Recipe Description\n",
    "4. **_ingredients_**: List of Normalized Recipe Ingredients\n",
    "5. **_ingredients_raw_str_**: List of Ingredients with Quantities\n",
    "6. **_serving_size_**: Serving size (with grams)\n",
    "7. **_servings_:** Number of Servings\n",
    "8. **_steps_**: Recipe Instructions in Ordered\n",
    "9. **_tags_**: User-assigned Tags\n",
    "10. **_search_terms_**: Search Terms on Food.com that Return the Recipe"
   ]
  },
  {
   "cell_type": "code",
   "execution_count": null,
   "id": "d363adec",
   "metadata": {},
   "outputs": [],
   "source": [
    "import pandas as pd\n",
    "import ast\n",
    "\n",
    "# Load CSV file\n",
    "df = pd.read_csv(\"recipes.csv\")"
   ]
  },
  {
   "cell_type": "markdown",
   "id": "f097f672",
   "metadata": {},
   "source": [
    "### <b>Step 1: Extracting Malaysian Cuisine (without pork) </b>\n",
    "Extracting the recipes that are only relevant to __Malaysian Cuisine__ by looking for the keyword **'Malaysian'** but without **'pork'** in the _'search_term'_ column. The results are saved into a csv file names _'filtered_recipes.csv'_. "
   ]
  },
  {
   "cell_type": "code",
   "execution_count": null,
   "id": "6cf0380a",
   "metadata": {},
   "outputs": [],
   "source": [
    "# Filter rows where the 'search_terms' column contains the keyword \"Malaysian\" and do not contain \"pork\"\n",
    "filtered_df = df[\n",
    "    df[\"search_terms\"].str.contains(\"Malaysian\", case=False, na=False) & \n",
    "    ~df[\"search_terms\"].str.contains(\"pork\", case=False, na=False) &\n",
    "    ~df[\"ingredients\"].str.contains(\"pork\", case=False, na=False)\n",
    "]\n",
    "\n",
    "# Save to a new CSV\n",
    "filtered_df.to_csv(\"filtered_recipes.csv\", index=False)\n",
    "\n",
    "print(f\"Filtered recipes saved to filtered_recipes.csv\")"
   ]
  },
  {
   "cell_type": "markdown",
   "id": "c7322d0e",
   "metadata": {},
   "source": [
    "### <b> Step 2: Normalizing the Recipe Dataset </b>\n",
    "To ensure a smooth a accurate word-pattern matching betwen pantry items and recipe ingredients, the recipe dataset is normalized to clean standardize the data, where the steps included: \n",
    "1. **Lowercasing**: Converting all ingredient names to lowercase to avoid mismatches caused by capitalization. \n",
    "2. **Whitespace Stripping**: Removing extra spaces before or after ingredients.\n",
    "3. **Punctuation Removal**: Removing characters such as period or special symbols for consistency. \n",
    "4. **Duplication Removal**: Removing duplicate ingredients within the same recipe to prevent redundant comparisons.\n",
    "5. **Sorting**: Sorting the ingredients alphabetically after cleaning to ensure consistent pattern analysis. \n",
    "\n",
    "<br>\n",
    "These cleaning steps ensure the recipe dataset is prepared for accuracte ingredient matching and reliable recipe recommendations based on the ingredients. "
   ]
  },
  {
   "cell_type": "code",
   "execution_count": null,
   "id": "785e8fed",
   "metadata": {},
   "outputs": [],
   "source": [
    "import re\n",
    "\n",
    "# Function to normalize ingredients\n",
    "def normalize_ingredients(ingredient_str):\n",
    "    if pd.isna(ingredient_str):\n",
    "        return \"\"\n",
    "    \n",
    "    # Convert string to list\n",
    "    ingredients = ast.literal_eval(ingredient_str)\n",
    "\n",
    "    # Clean each ingredient\n",
    "    cleaned = []\n",
    "    for ing in ingredients:\n",
    "        ing = ing.lower()  # Lowercase\n",
    "        ing = ing.strip()  # Remove whitespace\n",
    "        ing = re.sub(r'[^\\w\\s]', '', ing)  # Remove punctuation\n",
    "        cleaned.append(ing)\n",
    "\n",
    "    # Remove duplicates & sort alphabetically\n",
    "    cleaned = sorted(set(cleaned))\n",
    "\n",
    "    # Join ingredients back into a comma-separated string\n",
    "    return \", \".join(cleaned)\n",
    "\n",
    "# Apply normalization to ingredients\n",
    "filtered_df[\"ingredients\"] = filtered_df[\"ingredients\"].apply(normalize_ingredients)\n",
    "\n",
    "# Save result (optional)\n",
    "filtered_df.to_csv(\"final_recipes.csv\", index=False)\n",
    "\n",
    "print(\"Recipe dataset normalization complete and saved to final_recipes.csv.\")"
   ]
  },
  {
   "cell_type": "markdown",
   "id": "b76ce28a",
   "metadata": {},
   "source": [
    "### <b>Step 3: Extracting Ingredients Frequency </b>\n",
    "The frequency of each ingredient from the normalized recipe data is calculated and extracted to find out the most commonly used ingredients in the recipe dataset. By identifying the most commonly used ingredients, the relevant pantry item classes selected will provide a higher impact in recipe recommendation and pantry tracking.### <b> Selecting the Ingredients Manually </b>\n",
    "The full dataset includes many uncommon ingredients, therefore, the list of extracted ingredients is reviewed and selected manually. The commonly used and visually distinct items are selected to create a cleaned list of ket ingredients for object detection. <br>\n",
    "<br>"
   ]
  },
  {
   "cell_type": "code",
   "execution_count": null,
   "id": "f7eed907",
   "metadata": {},
   "outputs": [],
   "source": [
    "from collections import Counter\n",
    "\n",
    "# Step 1: Flatten all ingredients into a single list\n",
    "all_ingredients = []\n",
    "\n",
    "for ing_list in filtered_df[\"ingredients\"].dropna():\n",
    "    all_ingredients.extend([i.strip() for i in ing_list.split(\",\") if i.strip() != \"\"])\n",
    "\n",
    "# Step 2: Count frequency\n",
    "ingredient_counts = Counter(all_ingredients)\n",
    "\n",
    "# Step 3: Convert to DataFrame and sort alphabetically\n",
    "ingredient_freq_df = pd.DataFrame.from_dict(ingredient_counts, orient='index', columns=['frequency'])\n",
    "ingredient_freq_df = ingredient_freq_df.sort_index()  # Sort alphabetically by ingredient name\n",
    "\n",
    "# Step 4: Save or display\n",
    "ingredient_freq_df.to_csv(\"ingredient_frequency.csv\")\n",
    "\n",
    "print(\"Ingredient frequency table saved to ingredient_frequency.csv.\")"
   ]
  },
  {
   "cell_type": "markdown",
   "id": "220e6d44",
   "metadata": {},
   "source": [
    "### <b> Step 4: Selecting the Ingredients Manually </b>\n",
    "The full dataset includes many uncommon ingredients, therefore, the list of extracted ingredients is reviewed and selected manually. The commonly used and visually distinct items are selected to create a cleaned list of key ingredients for object detection. This ensures the model can learn features beyond colour, such as shape and texture. <br>\n",
    "<br>\n",
    "The ingredients are selected based on the below criteria: \n",
    "1. Frequency: Appears in at least 10 recipes in the dataset. \n",
    "2. Visual Distinctiveness: Has a clear, unique appearance (e.g. flour, salt and sugar are not selected as they are not visually distinguishable). \n",
    "3. Availability: Can be found in public image datasets or collected easily. \n",
    "\n",
    "<br>\n",
    "Automated selection based on frequency alone included ambiguous and visually similar items, A manual review is to ensure the selected classes had distinct visual features for better YOLOv5 object detection model. "
   ]
  },
  {
   "cell_type": "code",
   "execution_count": null,
   "id": "f8df0b53",
   "metadata": {},
   "outputs": [],
   "source": [
    "selected_ingredients = ['beef', 'cabbage', 'chicken', 'chili_pepper', 'cilantro', 'egg', 'fish', 'garlic', 'ginger', 'green_onion', 'lime', 'mango', 'noodles', 'onion', 'potato', 'tomato']"
   ]
  },
  {
   "cell_type": "markdown",
   "id": "b3df102f",
   "metadata": {},
   "source": [
    "The selected ingredient classes—such as beef, cabbage, chicken, egg, garlic, and tomato—were chosen based on their common usage in everyday cooking and their availability in the VegFru dataset. The list includes a mix of proteins (e.g., beef, chicken, fish), vegetables (e.g., cabbage, onion, potato), aromatics (e.g., garlic, ginger, green onion), and flavor enhancers (e.g., chili pepper, lime, cilantro), making them suitable for generating a wide range of common household recipes. This curated selection helps to ensure that the system can demonstrate meaningful functionality within a manageable scope during the initial prototype phase."
   ]
  },
  {
   "cell_type": "markdown",
   "id": "0cea59bf",
   "metadata": {},
   "source": []
  }
 ],
 "metadata": {
  "kernelspec": {
   "display_name": "venv",
   "language": "python",
   "name": "python3"
  },
  "language_info": {
   "codemirror_mode": {
    "name": "ipython",
    "version": 3
   },
   "file_extension": ".py",
   "mimetype": "text/x-python",
   "name": "python",
   "nbconvert_exporter": "python",
   "pygments_lexer": "ipython3",
   "version": "3.13.3"
  }
 },
 "nbformat": 4,
 "nbformat_minor": 5
}
